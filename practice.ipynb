{
 "cells": [
  {
   "cell_type": "code",
   "execution_count": 8,
   "id": "58ef8b0b",
   "metadata": {},
   "outputs": [
    {
     "name": "stdout",
     "output_type": "stream",
     "text": [
      "Collection 'financial_reports' created with Dense and Sparse vector support.\n"
     ]
    },
    {
     "name": "stderr",
     "output_type": "stream",
     "text": [
      "/var/folders/n2/2s0tjc891jx80m_1lwcfhm_40000gn/T/ipykernel_60984/2049177924.py:11: DeprecationWarning: `recreate_collection` method is deprecated and will be removed in the future. Use `collection_exists` to check collection existence and `create_collection` instead.\n",
      "  client.recreate_collection(\n"
     ]
    }
   ],
   "source": [
    "from qdrant_client import QdrantClient, models\n",
    "\n",
    "QDRANT_HOST = \"http://localhost:6333\"\n",
    "COLLECTION_NAME = \"financial_reports\"\n",
    "DENSE_VECTOR_DIM = 768 # e.g., for a model like all-MiniLM-L6-v2\n",
    "\n",
    "# 1. Initialize Qdrant Client\n",
    "client = QdrantClient(url=QDRANT_HOST)\n",
    "\n",
    "# 2. Define the collection with both dense and sparse vector configurations\n",
    "client.recreate_collection(\n",
    "    collection_name=COLLECTION_NAME,\n",
    "    vectors_config={\n",
    "        \"dense\": models.VectorParams(\n",
    "            size=DENSE_VECTOR_DIM,\n",
    "            distance=models.Distance.COSINE,\n",
    "        ),\n",
    "    },\n",
    "    sparse_vectors_config={\n",
    "        \"sparse\": models.SparseVectorParams(),\n",
    "    }\n",
    ")\n",
    "\n",
    "print(f\"Collection '{COLLECTION_NAME}' created with Dense and Sparse vector support.\")"
   ]
  },
  {
   "cell_type": "code",
   "execution_count": 10,
   "id": "a3c5144c",
   "metadata": {},
   "outputs": [
    {
     "name": "stderr",
     "output_type": "stream",
     "text": [
      "/Users/saibhargavrallapalli/Documents/Git/qdrant_dust/.venv/lib/python3.12/site-packages/tqdm/auto.py:21: TqdmWarning: IProgress not found. Please update jupyter and ipywidgets. See https://ipywidgets.readthedocs.io/en/stable/user_install.html\n",
      "  from .autonotebook import tqdm as notebook_tqdm\n"
     ]
    },
    {
     "ename": "ModuleNotFoundError",
     "evalue": "No module named 'splade'",
     "output_type": "error",
     "traceback": [
      "\u001b[31m---------------------------------------------------------------------------\u001b[39m",
      "\u001b[31mModuleNotFoundError\u001b[39m                       Traceback (most recent call last)",
      "\u001b[36mCell\u001b[39m\u001b[36m \u001b[39m\u001b[32mIn[10]\u001b[39m\u001b[32m, line 4\u001b[39m\n\u001b[32m      2\u001b[39m \u001b[38;5;28;01mfrom\u001b[39;00m\u001b[38;5;250m \u001b[39m\u001b[34;01msentence_transformers\u001b[39;00m\u001b[38;5;250m \u001b[39m\u001b[38;5;28;01mimport\u001b[39;00m SentenceTransformer\n\u001b[32m      3\u001b[39m \u001b[38;5;28;01mimport\u001b[39;00m\u001b[38;5;250m \u001b[39m\u001b[34;01mtorch\u001b[39;00m\n\u001b[32m----> \u001b[39m\u001b[32m4\u001b[39m \u001b[38;5;28;01mfrom\u001b[39;00m\u001b[38;5;250m \u001b[39m\u001b[34;01msplade\u001b[39;00m\u001b[34;01m.\u001b[39;00m\u001b[34;01mmodels\u001b[39;00m\u001b[34;01m.\u001b[39;00m\u001b[34;01mtransformer_rep\u001b[39;00m\u001b[38;5;250m \u001b[39m\u001b[38;5;28;01mimport\u001b[39;00m Splade  \u001b[38;5;66;03m# For sparse vectors\u001b[39;00m\n\u001b[32m      6\u001b[39m client = QdrantClient(\u001b[33m\"\u001b[39m\u001b[33mlocalhost\u001b[39m\u001b[33m\"\u001b[39m, port=\u001b[32m6333\u001b[39m)  \u001b[38;5;66;03m# Or cloud URL\u001b[39;00m\n",
      "\u001b[31mModuleNotFoundError\u001b[39m: No module named 'splade'"
     ]
    }
   ],
   "source": [
    "from qdrant_client import QdrantClient, models\n",
    "from sentence_transformers import SentenceTransformer\n",
    "import torch\n",
    "from splade.models.transformer_rep import Splade  # For sparse vectors\n",
    "\n",
    "client = QdrantClient(\"localhost\", port=6333)  # Or cloud URL"
   ]
  },
  {
   "cell_type": "code",
   "execution_count": null,
   "id": "3897ee80",
   "metadata": {},
   "outputs": [],
   "source": [
    "import torch\n",
    "from transformers import AutoTokenizer, AutoModel\n",
    "from qdrant_client import models\n",
    "from typing import List\n",
    "\n",
    "# Load a pre-trained sentence transformer model for dense embeddings\n",
    "# For production, use a domain-specific financial model\n",
    "tokenizer = AutoTokenizer.from_pretrained('sentence-transformers/all-MiniLM-L6-v2')\n",
    "model = AutoModel.from_pretrained('sentence-transformers/all-MiniLM-L6-v2')\n",
    "\n",
    "def create_dense_embedding(text: str) -> List[float]:\n",
    "    \"\"\"Generates the dense (semantic) vector.\"\"\"\n",
    "    inputs = tokenizer(text, return_tensors='pt', truncation=True, padding=True)\n",
    "    with torch.no_grad():\n",
    "        outputs = model(**inputs)\n",
    "    # Use CLS token embedding, mean-pooled or similar\n",
    "    embedding = outputs.last_hidden_state[:, 0, :].squeeze().tolist()\n",
    "    return embedding\n",
    "\n",
    "def create_sparse_embedding(text: str):\n",
    "    \"\"\"Generates the sparse (lexical/BM25) vector. \n",
    "    In Qdrant, a custom function/API (e.g., a dedicated sparse model) is typically used for this,\n",
    "    but we'll show the structure.\"\"\"\n",
    "    # This is highly simplified. A real sparse model (like a splade variant or explicit BM25)\n",
    "    # would generate indices and values.\n",
    "    # For a real implementation, you would use a dedicated sparse vector generation library\n",
    "    # that integrates with Qdrant's sparse vector format.\n",
    "    \n",
    "    # Placeholder for sparse vector (indices and values)\n",
    "    # Example: {'indices': [100, 200, 300], 'values': [0.5, 0.3, 0.9]}\n",
    "    \n",
    "    # The actual generation logic is complex and dependent on the chosen sparse model.\n",
    "    # For this guide, we focus on the Qdrant storage structure.\n",
    "    return {'indices': [1, 2, 3], 'values': [0.1, 0.2, 0.3]} \n",
    "\n",
    "# --- Ingestion Loop ---\n",
    "def ingest_document_chunk(chunk_id: str, company: str, year: int, section: str, text: str):\n",
    "    dense_vec = create_dense_embedding(text)\n",
    "    sparse_vec = create_sparse_embedding(text) # NOTE: Placeholder\n",
    "    \n",
    "    client.upsert(\n",
    "        collection_name=COLLECTION_NAME,\n",
    "        points=[\n",
    "            models.PointStruct(\n",
    "                id=chunk_id,\n",
    "                # Store both vector types under their respective names\n",
    "                vectors={\n",
    "                    \"dense\": dense_vec,\n",
    "                    \"sparse\": models.SparseVector(indices=sparse_vec['indices'], values=sparse_vec['values'])\n",
    "                },\n",
    "                payload={\n",
    "                    \"company\": company,\n",
    "                    \"year\": year,\n",
    "                    \"section\": section,\n",
    "                    \"text\": text\n",
    "                }\n",
    "            )\n",
    "        ]\n",
    "    )\n",
    "\n",
    "# Example ingestion of a chunk (requires a separate script for full text extraction/chunking)\n",
    "ingest_document_chunk(\n",
    "    chunk_id=\"AAPL_2024_RISK_001\",\n",
    "    company=\"Apple Inc.\",\n",
    "    year=2024,\n",
    "    section=\"Risk Factors\",\n",
    "    text=\"Our operations are subject to risks associated with global supply chain disruptions...\"\n",
    ")"
   ]
  }
 ],
 "metadata": {
  "kernelspec": {
   "display_name": "qdrant_dust",
   "language": "python",
   "name": "python3"
  },
  "language_info": {
   "codemirror_mode": {
    "name": "ipython",
    "version": 3
   },
   "file_extension": ".py",
   "mimetype": "text/x-python",
   "name": "python",
   "nbconvert_exporter": "python",
   "pygments_lexer": "ipython3",
   "version": "3.12.9"
  }
 },
 "nbformat": 4,
 "nbformat_minor": 5
}
