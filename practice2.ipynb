{
 "cells": [
  {
   "cell_type": "code",
   "execution_count": 1,
   "id": "f28381d9",
   "metadata": {},
   "outputs": [
    {
     "name": "stdout",
     "output_type": "stream",
     "text": [
      "all ok\n"
     ]
    }
   ],
   "source": [
    "print(\"all ok\")"
   ]
  },
  {
   "cell_type": "code",
   "execution_count": 2,
   "id": "c14e17b6",
   "metadata": {},
   "outputs": [
    {
     "name": "stderr",
     "output_type": "stream",
     "text": [
      "/Users/saibhargavrallapalli/Documents/Git/qdrant_dust/.venv/lib/python3.12/site-packages/tqdm/auto.py:21: TqdmWarning: IProgress not found. Please update jupyter and ipywidgets. See https://ipywidgets.readthedocs.io/en/stable/user_install.html\n",
      "  from .autonotebook import tqdm as notebook_tqdm\n"
     ]
    }
   ],
   "source": [
    "# Pseudo-code for embedding generation\n",
    "from sentence_transformers import SentenceTransformer\n",
    "from qdrant_client.models import SparseVector\n",
    "\n",
    "# Dense Model\n",
    "dense_model = SentenceTransformer('all-MiniLM-L6-v2')\n",
    "\n",
    "# Sparse (BM25-like)\n",
    "def get_sparse_vector(text):\n",
    "    # This would use a tokenizer and compute term frequencies/BM25 scores\n",
    "    # For simplicity, a basic TF-IDF-like approach can be implemented or\n",
    "    # leverage specialized libraries/Qdrant's sparse vector handling.\n",
    "    # Returns: SparseVector(indices=[...], values=[...])\n",
    "    pass\n",
    "\n",
    "processed_data = [] # List of {'text': ..., 'metadata': ...}\n",
    "\n",
    "for chunk in processed_data:\n",
    "    chunk['dense_vector'] = dense_model.encode(chunk['text']).tolist()\n",
    "    chunk['sparse_vector'] = get_sparse_vector(chunk['text'])"
   ]
  },
  {
   "cell_type": "code",
   "execution_count": 4,
   "id": "a0f7e59f",
   "metadata": {},
   "outputs": [
    {
     "name": "stderr",
     "output_type": "stream",
     "text": [
      "/var/folders/n2/2s0tjc891jx80m_1lwcfhm_40000gn/T/ipykernel_88403/1642275295.py:9: DeprecationWarning: `recreate_collection` method is deprecated and will be removed in the future. Use `collection_exists` to check collection existence and `create_collection` instead.\n",
      "  client.recreate_collection(\n"
     ]
    },
    {
     "data": {
      "text/plain": [
       "True"
      ]
     },
     "execution_count": 4,
     "metadata": {},
     "output_type": "execute_result"
    }
   ],
   "source": [
    "from qdrant_client import QdrantClient\n",
    "from qdrant_client.models import VectorParams, Distance, SparseVectorParams, WalConfig, OptimizersConfig\n",
    "\n",
    "client = QdrantClient(host=\"localhost\", port=6333)\n",
    "COLLECTION_NAME = \"financial_reports_2025\"\n",
    "VECTOR_DIM = 384 # Dimension of all-MiniLM-L6-v2\n",
    "\n",
    "# Create the collection with both dense and sparse vectors\n",
    "client.recreate_collection(\n",
    "    collection_name=COLLECTION_NAME,\n",
    "    vectors_config={\n",
    "        \"dense\": VectorParams(size=VECTOR_DIM, distance=Distance.COSINE),\n",
    "    },\n",
    "    sparse_vectors_config={\n",
    "        \"sparse\": SparseVectorParams(\n",
    "            # BM25-based or custom sparse model configuration\n",
    "        )\n",
    "    },\n",
    ")"
   ]
  },
  {
   "cell_type": "code",
   "execution_count": 5,
   "id": "2e907549",
   "metadata": {},
   "outputs": [
    {
     "ename": "NameError",
     "evalue": "name 'final_data' is not defined",
     "output_type": "error",
     "traceback": [
      "\u001b[31m---------------------------------------------------------------------------\u001b[39m",
      "\u001b[31mNameError\u001b[39m                                 Traceback (most recent call last)",
      "\u001b[36mCell\u001b[39m\u001b[36m \u001b[39m\u001b[32mIn[5]\u001b[39m\u001b[32m, line 5\u001b[39m\n\u001b[32m      3\u001b[39m \u001b[38;5;66;03m# Assuming 'final_data' is the list of dictionaries from Step 2.2\u001b[39;00m\n\u001b[32m      4\u001b[39m points = []\n\u001b[32m----> \u001b[39m\u001b[32m5\u001b[39m \u001b[38;5;28;01mfor\u001b[39;00m i, item \u001b[38;5;129;01min\u001b[39;00m \u001b[38;5;28menumerate\u001b[39m(\u001b[43mfinal_data\u001b[49m):\n\u001b[32m      6\u001b[39m     points.append(\n\u001b[32m      7\u001b[39m         PointStruct(\n\u001b[32m      8\u001b[39m             \u001b[38;5;28mid\u001b[39m=i,\n\u001b[32m   (...)\u001b[39m\u001b[32m     14\u001b[39m         )\n\u001b[32m     15\u001b[39m     )\n\u001b[32m     17\u001b[39m \u001b[38;5;66;03m# Batch upload\u001b[39;00m\n",
      "\u001b[31mNameError\u001b[39m: name 'final_data' is not defined"
     ]
    }
   ],
   "source": [
    "from qdrant_client.models import PointStruct\n",
    "\n",
    "# Assuming 'final_data' is the list of dictionaries from Step 2.2\n",
    "points = []\n",
    "for i, item in enumerate(final_data):\n",
    "    points.append(\n",
    "        PointStruct(\n",
    "            id=i,\n",
    "            vector={\n",
    "                \"dense\": item['dense_vector'],\n",
    "                \"sparse\": item['sparse_vector'],\n",
    "            },\n",
    "            payload=item['metadata']\n",
    "        )\n",
    "    )\n",
    "\n",
    "# Batch upload\n",
    "client.upsert(\n",
    "    collection_name=COLLECTION_NAME,\n",
    "    wait=True,\n",
    "    points=points\n",
    ")"
   ]
  },
  {
   "cell_type": "code",
   "execution_count": 7,
   "id": "119bfa69",
   "metadata": {},
   "outputs": [
    {
     "name": "stdout",
     "output_type": "stream",
     "text": [
      "Collection Status: green\n",
      "Total Points Count: 7104\n"
     ]
    }
   ],
   "source": [
    "from qdrant_client import QdrantClient\n",
    "from qdrant_client.models import CollectionStatus\n",
    "\n",
    "client = QdrantClient(host=\"localhost\", port=6333)\n",
    "collection_info = client.get_collection(\"financial_reports_2025\")\n",
    "\n",
    "print(f\"Collection Status: {collection_info.status}\")\n",
    "print(f\"Total Points Count: {collection_info.points_count}\")"
   ]
  }
 ],
 "metadata": {
  "kernelspec": {
   "display_name": "qdrant_dust",
   "language": "python",
   "name": "python3"
  },
  "language_info": {
   "codemirror_mode": {
    "name": "ipython",
    "version": 3
   },
   "file_extension": ".py",
   "mimetype": "text/x-python",
   "name": "python",
   "nbconvert_exporter": "python",
   "pygments_lexer": "ipython3",
   "version": "3.12.9"
  }
 },
 "nbformat": 4,
 "nbformat_minor": 5
}
